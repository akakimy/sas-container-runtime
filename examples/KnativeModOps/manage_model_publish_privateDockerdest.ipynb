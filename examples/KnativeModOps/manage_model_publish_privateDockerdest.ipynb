{
 "cells": [
  {
   "cell_type": "markdown",
   "metadata": {},
   "source": [
    "# This notebook helps manage SAS Model publish Destinations. Handles Private Docker destinations."
   ]
  },
  {
   "cell_type": "markdown",
   "metadata": {},
   "source": [
    "#### This cell sets default values "
   ]
  },
  {
   "cell_type": "code",
   "execution_count": null,
   "metadata": {},
   "outputs": [],
   "source": [
    "import sys\n",
    "sys.path.append('..')\n",
    "import mmAuthorization\n",
    "import getpass\n",
    "\n",
    "import requests\n",
    "import json, os, pprint\n",
    "import base64\n"
   ]
  },
  {
   "cell_type": "markdown",
   "metadata": {},
   "source": [
    "### Following defines few methods and config values for later resuse"
   ]
  },
  {
   "cell_type": "code",
   "execution_count": null,
   "metadata": {},
   "outputs": [],
   "source": [
    "def list_destinations(destination_url, auth_token): \n",
    "    headers = {\n",
    "        mmAuthorization.AUTHORIZATION_HEADER: mmAuthorization.AUTHORIZATION_TOKEN + auth_token\n",
    "    }\n",
    "\n",
    "    print(\"List the destinations...\")\n",
    "    try:\n",
    "        response = requests.get(destination_url, headers=headers,verify=False)\n",
    "        jsondata = response.json()\n",
    "        destinations = jsondata['items']\n",
    "        if len(destinations) > 0:\n",
    "            for destination in destinations:            \n",
    "                print(destination[\"id\"])\n",
    "                print(destination[\"name\"])\n",
    "                print(\"===========\")\n",
    "\n",
    "    except:\n",
    "        raise RuntimeError(\"ERROR: Could not get a destination list.\")\n",
    "\n",
    "public_ip = \"PUBLIC_IP\"\n",
    "host_name = \"fsbuwlm.fsbudev-openstack-k8s.unx.sas.com\"\n",
    "port = \"PORT\"\n",
    "\n",
    "host_url=\"https://\" + host_name \n",
    "destination_url = host_url + \"/modelPublish/destinations/\"\n",
    "modelrepo_url = host_url + \"/modelRepository/models/\"\n",
    "publishmodel_url = host_url + \"/modelPublish/models\"\n",
    "domains_url = host_url + \"/credentials/domains\"\n",
    "print(host_url)"
   ]
  },
  {
   "cell_type": "markdown",
   "metadata": {},
   "source": [
    "### Following gets Auth token"
   ]
  },
  {
   "cell_type": "code",
   "execution_count": null,
   "metadata": {},
   "outputs": [],
   "source": [
    "mm_auth = mmAuthorization.mmAuthorization(\"myAuth\")\n",
    "\n",
    "admin_userId = 'whoami'\n",
    "user_passwd = getpass.getpass()\n",
    "\n",
    "admin_auth_token = mm_auth.get_auth_token(host_url, admin_userId, user_passwd)\n",
    "\n",
    "credential_admin_headers = {\n",
    "    mmAuthorization.AUTHORIZATION_HEADER: mmAuthorization.AUTHORIZATION_TOKEN + admin_auth_token\n",
    "}\n",
    "\n",
    "credential_domain_headers = {\n",
    "    \"If-Match\":\"false\",\n",
    "    \"Content-Type\":\"application/json\",\n",
    "    mmAuthorization.AUTHORIZATION_HEADER: mmAuthorization.AUTHORIZATION_TOKEN + admin_auth_token\n",
    "}\n",
    "\n",
    "credential_user_headers = {\n",
    "    \"If-Match\":\"false\",\n",
    "    \"Content-Type\":\"application/json\",\n",
    "    mmAuthorization.AUTHORIZATION_HEADER: mmAuthorization.AUTHORIZATION_TOKEN + admin_auth_token\n",
    "}\n",
    "\n",
    "destination_harbor_headers = {\n",
    "    \"If-Match\":\"false\",\n",
    "    \"Content-Type\":\"application/vnd.sas.models.publishing.destination.privatedocker+json\",\n",
    "    mmAuthorization.AUTHORIZATION_HEADER: mmAuthorization.AUTHORIZATION_TOKEN + admin_auth_token\n",
    "}\n",
    "\n",
    "print(admin_auth_token)"
   ]
  },
  {
   "cell_type": "code",
   "execution_count": null,
   "metadata": {},
   "outputs": [],
   "source": [
    "##### create Domain\n",
    "\n",
    "domain_name = \"fsbu_domain_1\"\n",
    "description = 'fsbu domain 1'\n",
    "\n",
    "my_domain_url = domains_url + \"/\" + domain_name\n",
    "domain_attrs = {\n",
    "    \"id\":domain_name,\n",
    "    \"type\":\"base64\",\n",
    "    \"description\": description\n",
    "}\n",
    "\n",
    "domain = requests.put(my_domain_url, \n",
    "                       data=json.dumps(domain_attrs), headers=credential_domain_headers, verify=False)\n",
    "\n",
    "print(domain)\n",
    "pprint.pprint(domain.json())"
   ]
  },
  {
   "cell_type": "code",
   "execution_count": null,
   "metadata": {},
   "outputs": [],
   "source": [
    "### Create credential \n",
    "####\n",
    "user_credential_name = admin_userId\n",
    "my_credential_url = my_domain_url + \"/users/\" + user_credential_name\n",
    "\n",
    "userId = \"fsbu_modeluser\"\n",
    "password = \"fsbu_modeluser\"\n",
    "encoded_userId = str(base64.b64encode(userId.encode(\"utf-8\")), \"utf-8\")\n",
    "encoded_password = str(base64.b64encode(password.encode(\"utf-8\")), \"utf-8\")\n",
    "credential_attrs = {\n",
    "    \"domainId\":domain_name,\n",
    "    \"identityType\":\"user\",\n",
    "    \"identityId\":user_credential_name,\n",
    "    \"domainType\":\"base64\",\n",
    "    \"properties\":{\"dockerRegistryUserId\":encoded_userId},\n",
    "    \"secrets\":{\"dockerRegistryPasswd\":encoded_password}\n",
    "}\n",
    "\n",
    "#credential_attrs = {\n",
    "#    \"domainId\":domain_name,\n",
    "#    \"identityType\":\"user\",\n",
    "#    \"identityId\":user_credential_name,\n",
    "#    \"domainType\":\"base64\"\n",
    "#}\n",
    "\n",
    "credential = requests.put(my_credential_url, \n",
    "                       data=json.dumps(credential_attrs), headers=credential_user_headers,verify=False)\n",
    "\n",
    "print(credential)\n",
    "pprint.pprint(credential.json())"
   ]
  },
  {
   "cell_type": "code",
   "execution_count": null,
   "metadata": {},
   "outputs": [],
   "source": [
    "# Creates a new destination, expecting a response code of 201.\n",
    "\n",
    "dest_name = \"fsbu_dest_docker_1\"\n",
    "domainName = \"fsbu_domain_1\"\n",
    "baseRepoUrl = \"docker-repo.company.com:5003\"\n",
    "# no need of docker host in 1.1.4 since we have kaniko. \n",
    "\n",
    "destination_attrs = {\n",
    "    \"name\":dest_name,\n",
    "    \"destinationType\":\"privateDocker\",\n",
    "     \"properties\": [{\"name\": \"credDomainId\",\n",
    "                    \"value\": domainName},\n",
    "                    {\"name\": \"baseRepoUrl\",\n",
    "                    \"value\": baseRepoUrl}\n",
    "                   ]\n",
    "}\n",
    "\n",
    "destination = requests.post(destination_url, data=json.dumps(destination_attrs), headers=destination_harbor_headers, verify=False)\n",
    "\n",
    "print(destination)"
   ]
  },
  {
   "cell_type": "code",
   "execution_count": null,
   "metadata": {},
   "outputs": [],
   "source": [
    "list_destinations(destination_url, admin_auth_token)"
   ]
  },
  {
   "cell_type": "code",
   "execution_count": null,
   "metadata": {},
   "outputs": [],
   "source": [
    "deletedURL = destination_url + dest_name\n",
    "\n",
    "destination = requests.delete(deletedURL, headers=credential_admin_headers)\n",
    "\n",
    "print(deletedURL)\n",
    "print(destination)\n",
    "pprint.pprint(destination.json())"
   ]
  }
 ],
 "metadata": {
  "kernelspec": {
   "display_name": "Python 3",
   "language": "python",
   "name": "python3"
  },
  "language_info": {
   "codemirror_mode": {
    "name": "ipython",
    "version": 3
   },
   "file_extension": ".py",
   "mimetype": "text/x-python",
   "name": "python",
   "nbconvert_exporter": "python",
   "pygments_lexer": "ipython3",
   "version": "3.7.4"
  }
 },
 "nbformat": 4,
 "nbformat_minor": 4
}
