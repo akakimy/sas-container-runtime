{
 "cells": [
  {
   "cell_type": "markdown",
   "metadata": {},
   "source": [
    "# This notebook helps create AWS domain and creds"
   ]
  },
  {
   "cell_type": "markdown",
   "metadata": {},
   "source": [
    "#### This cell sets default values "
   ]
  },
  {
   "cell_type": "code",
   "execution_count": null,
   "metadata": {},
   "outputs": [],
   "source": [
    "import sys\n",
    "sys.path.append('..')\n",
    "import mmAuthorization\n",
    "\n",
    "import requests\n",
    "import json, os, pprint\n",
    "import base64\n",
    "import getpass"
   ]
  },
  {
   "cell_type": "markdown",
   "metadata": {},
   "source": [
    "### Following defines config values for later resuse"
   ]
  },
  {
   "cell_type": "code",
   "execution_count": null,
   "metadata": {},
   "outputs": [],
   "source": [
    "# hostname of Viya4 server where ever you are using model manager from\n",
    "host_name = \"viya-server.company.com\"\n",
    "port = \"PORT\"\n",
    "\n",
    "host_url=\"https://\" + host_name \n",
    "destination_url = host_url + \"/modelPublish/destinations/\"\n",
    "modelrepo_url = host_url + \"/modelRepository/models/\"\n",
    "publishmodel_url = host_url + \"/modelPublish/models\"\n",
    "domains_url = host_url + \"/credentials/domains\"\n",
    "\n",
    "print(host_url)\n",
    "\n",
    "# AWS secret keys of sunall_modeluser1 created thru IAM console. This particular one should have roles associated with \n",
    "# AmazonElasticContainerRegistry, AmazonEC2ContainerRegistryFullAccess* \n",
    "AWS_KEY_ID = \"\"\n",
    "AWS_SECRET_KEY = \"\"\n",
    "\n",
    "# admin id to connect to Viya4\n",
    "admin_userId = 'whoami'\n",
    "user_passwd = getpass.getpass()\n",
    "\n",
    "# The user who can use the credentials.\n",
    "USER_ID = \"whoami\"\n",
    "\n",
    "domain_name = \"fsbu_aws_domain_1\"\n",
    "domain_description = 'fsbu aws domain 1'\n",
    "\n",
    "dest_name = \"fsbu_aws_dest_1\"\n",
    "awsRegion = \"us-east-1\"\n",
    "# following EKS is not required for publishing images. You can come with some arbitary name just to create  destination. You need working one only for model validation. \n",
    "k8sClusterName = \"mm-docker-models-eks\"\n"
   ]
  },
  {
   "cell_type": "markdown",
   "metadata": {},
   "source": [
    "### Following gets Auth token"
   ]
  },
  {
   "cell_type": "code",
   "execution_count": null,
   "metadata": {},
   "outputs": [],
   "source": [
    "mm_auth = mmAuthorization.mmAuthorization(\"myAuth\")\n",
    "\n",
    "admin_auth_token = mm_auth.get_auth_token(host_url, admin_userId, user_passwd)\n",
    "\n",
    "credential_admin_headers = {\n",
    "    mmAuthorization.AUTHORIZATION_HEADER: mmAuthorization.AUTHORIZATION_TOKEN + admin_auth_token\n",
    "}\n",
    "\n",
    "credential_domain_headers = {\n",
    "    \"If-Match\":\"false\",\n",
    "    \"Content-Type\":\"application/json\",\n",
    "    mmAuthorization.AUTHORIZATION_HEADER: mmAuthorization.AUTHORIZATION_TOKEN + admin_auth_token\n",
    "}\n",
    "\n",
    "credential_user_headers = {\n",
    "    \"If-Match\":\"false\",\n",
    "    \"Content-Type\":\"application/json\",\n",
    "    mmAuthorization.AUTHORIZATION_HEADER: mmAuthorization.AUTHORIZATION_TOKEN + admin_auth_token\n",
    "}\n",
    "\n",
    "destination_harbor_headers = {\n",
    "    \"If-Match\":\"false\",\n",
    "    \"Content-Type\":\"application/vnd.sas.models.publishing.destination.privatedocker+json\",\n",
    "    mmAuthorization.AUTHORIZATION_HEADER: mmAuthorization.AUTHORIZATION_TOKEN + admin_auth_token\n",
    "}\n",
    "\n",
    "print(admin_auth_token)"
   ]
  },
  {
   "cell_type": "code",
   "execution_count": null,
   "metadata": {},
   "outputs": [],
   "source": [
    "##### create Domain\n",
    "\n",
    "my_domain_url = domains_url + \"/\" + domain_name\n",
    "domain_attrs = {\n",
    "    \"id\":domain_name,\n",
    "    \"type\":\"base64\",\n",
    "    \"description\": domain_description\n",
    "}\n",
    "\n",
    "domain = requests.put(my_domain_url, \n",
    "                       data=json.dumps(domain_attrs), headers=credential_domain_headers, verify=False)\n",
    "\n",
    "print(domain)\n",
    "pprint.pprint(domain.json())"
   ]
  },
  {
   "cell_type": "code",
   "execution_count": null,
   "metadata": {},
   "outputs": [],
   "source": [
    "### Create credential \n",
    "####\n",
    "# Create credentials for the specified user.\n",
    "my_credential_url = my_domain_url + \"/users/\" + USER_ID\n",
    "\n",
    "key_id = AWS_KEY_ID\n",
    "secret_access_Key = AWS_SECRET_KEY\n",
    "\n",
    "encoded_key_id = str(base64.b64encode(key_id.encode(\"utf-8\")), \"utf-8\")\n",
    "encoded_access_key = str(base64.b64encode(secret_access_Key.encode(\"utf-8\")), \"utf-8\")\n",
    "print(encoded_access_key)\n",
    "\n",
    "credential_attrs = {\n",
    "    \"domainId\":domain_name,\n",
    "    \"identityType\":\"user\",\n",
    "    \"identityId\":USER_ID,\n",
    "    \"domainType\":\"base64\",\n",
    "    \"properties\":{\"accessKeyId\":encoded_key_id},\n",
    "    \"secrets\":{\"secretAccessKey\":encoded_access_key}\n",
    "}\n",
    "\n",
    "credential = requests.put(my_credential_url, \n",
    "                       data=json.dumps(credential_attrs), headers=credential_user_headers, verify=False)\n",
    "\n",
    "print(domain)\n",
    "#pprint.pprint(domain.json())\n",
    "print(\"The credentials have been created within the domain \", domain_name)\n",
    "\n",
    "print(credential)\n",
    "pprint.pprint(credential.json())"
   ]
  },
  {
   "cell_type": "code",
   "execution_count": null,
   "metadata": {},
   "outputs": [],
   "source": [
    "# Creates a new destination, expecting a response code of 201.\n",
    "destination_aws_post_headers = {\n",
    "    \"Content-Type\":\"application/vnd.sas.models.publishing.destination.aws+json\",\n",
    "    mmAuthorization.AUTHORIZATION_HEADER: mmAuthorization.AUTHORIZATION_TOKEN + admin_auth_token\n",
    "} \n",
    "\n",
    "\n",
    "#        {\"name\": \"repositoryName\",\n",
    "#         \"value\": \"experian/scr-models\"}\n",
    "\n",
    "destination_attrs = {\n",
    "    \"name\":dest_name,\n",
    "    \"destinationType\":\"aws\",\n",
    "    \"properties\":[\n",
    "        {\"name\": \"credDomainId\",\n",
    "        \"value\": domain_name},\n",
    "        {\"name\": \"region\",\n",
    "        \"value\": awsRegion},\n",
    "        {\"name\": \"kubernetesCluster\",\n",
    "        \"value\": k8sClusterName}\n",
    "     ]\n",
    "}\n",
    "\n",
    "destination = requests.post(host_url + '/modelPublish/destinations', \n",
    "                       data=json.dumps(destination_attrs), headers=destination_aws_post_headers,verify=False)\n",
    "\n",
    "print(destination)\n",
    "pprint.pprint(destination.json())\n"
   ]
  },
  {
   "cell_type": "markdown",
   "metadata": {},
   "source": [
    "## Get/List proccess from here on..."
   ]
  },
  {
   "cell_type": "code",
   "execution_count": null,
   "metadata": {},
   "outputs": [],
   "source": [
    "def list_destinations(destination_url, auth_token): \n",
    "    headers = {\n",
    "        mmAuthorization.AUTHORIZATION_HEADER: mmAuthorization.AUTHORIZATION_TOKEN + auth_token\n",
    "    }\n",
    "\n",
    "    print(\"List the destinations...\")\n",
    "    try:\n",
    "        response = requests.get(destination_url, headers=headers,verify=False)\n",
    "        jsondata = response.json()\n",
    "        destinations = jsondata['items']\n",
    "        if len(destinations) > 0:\n",
    "            for destination in destinations:            \n",
    "                print(destination[\"id\"])\n",
    "                print(destination[\"name\"])\n",
    "                print(\"===========\")\n",
    "\n",
    "    except:\n",
    "        raise RuntimeError(\"ERROR: Could not get a destination list.\")\n",
    "        \n",
    "list_destinations(destination_url, admin_auth_token)"
   ]
  },
  {
   "cell_type": "code",
   "execution_count": null,
   "metadata": {},
   "outputs": [],
   "source": [
    "# get credentials list \n",
    "\n",
    "headersGet = {\n",
    "    'Authorization': 'Bearer ' + admin_auth_token}\n",
    "\n",
    "credentialURL = domains_url + \"/\" + domain_name + '/credentials'\n",
    "print(\"cred URL:\", credentialURL)\n",
    "\n",
    "credentialGet = requests.get(credentialURL, headers=headersGet,verify=False)\n",
    "print(\"http response code:\", credentialGet)\n",
    "\n",
    "for i, domain in enumerate(credentialGet.json()['items']):\n",
    "    print(f\"{i}. Domain ID: {domain['domainId']}, {domain['identityId']}, {domain['identityType']}\")\n",
    " "
   ]
  },
  {
   "cell_type": "markdown",
   "metadata": {},
   "source": [
    "## Delete proccess from here on..."
   ]
  },
  {
   "cell_type": "code",
   "execution_count": null,
   "metadata": {},
   "outputs": [],
   "source": [
    "# Delete destination \n",
    "\n",
    "deletedURL = destination_url + dest_name\n",
    "destination = requests.delete(deletedURL, headers=credential_admin_headers, verify=False)\n",
    "\n",
    "print(\"Deleted destination:\", deletedURL)\n",
    "print(destination)\n"
   ]
  },
  {
   "cell_type": "code",
   "execution_count": null,
   "metadata": {},
   "outputs": [],
   "source": []
  }
 ],
 "metadata": {
  "kernelspec": {
   "display_name": "Python 3",
   "language": "python",
   "name": "python3"
  },
  "language_info": {
   "codemirror_mode": {
    "name": "ipython",
    "version": 3
   },
   "file_extension": ".py",
   "mimetype": "text/x-python",
   "name": "python",
   "nbconvert_exporter": "python",
   "pygments_lexer": "ipython3",
   "version": "3.7.4"
  }
 },
 "nbformat": 4,
 "nbformat_minor": 4
}
