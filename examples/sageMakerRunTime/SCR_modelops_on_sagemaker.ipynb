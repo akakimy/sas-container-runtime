{
 "cells": [
  {
   "cell_type": "markdown",
   "metadata": {},
   "source": [
    "## This notebook has following parts:\n",
    "#### PART A - Convert SCR model OCI to a AWS SageMaker compatible OCI.\n",
    "#### PART B - Deploy OCI to SageMaker for inference  - create sagemaker model, endpoint configuration, endpoint\n",
    "#### PART C - Inference/score the model and delete resources.\n",
    "#### PART D - Delete resources created. Very important if you do not need them.\n",
    "\n",
    "#### This notebook needs other files from same directory where you downloaded this notebook (DockerFile, sagemaker_server.py and launch_two_servers.sh) "
   ]
  },
  {
   "cell_type": "markdown",
   "metadata": {},
   "source": [
    "# ======================= Seperator ========================="
   ]
  },
  {
   "cell_type": "markdown",
   "metadata": {},
   "source": [
    "#### Pre-requisites\n",
    "##### 1. Docker setup on machine where you are running this notebook. We need this to build a new docker image (NO need for ROOT Access). \n",
    "##### 2. AWS CLI setup on machine where you are running this notebook. We need this to pull and push images from AWS ECR\n",
    "##### 3. AWS profile setup for the user running this note book under /HOME/.aws/config.User should have IAM permissions to pull/push images to ECR and create resources on sagemaker. - AmazonElasticContainerRegistry, AmazonEC2ContainerRegistryFullAccess, AmazonSageMakerFullAccess*\n",
    "##### 4. AWS SDK with in the python environment that this notebook access to. "
   ]
  },
  {
   "cell_type": "markdown",
   "metadata": {},
   "source": [
    "# ======================= Seperator ========================="
   ]
  },
  {
   "cell_type": "markdown",
   "metadata": {},
   "source": [
    "# PART A - Convert SCR model OCI to a AWS SageMaker compatible OCI."
   ]
  },
  {
   "cell_type": "code",
   "execution_count": 115,
   "metadata": {},
   "outputs": [],
   "source": [
    "# set variables in this cell for PART A\n",
    "DOCKER_CMD = \"docker -H tcp://docker-server.company.com:2375\"\n",
    "SCR_PATH_ON_AWS_ECR = \"1234567890.dkr.ecr.us-east-1.amazonaws.com/sunallscrtree1\"\n",
    "SCR_MODEL_NAME = SCR_PATH_ON_AWS_ECR.split(\"/\")[1]\n",
    "\n",
    "# following is the ouput. SageMaker compatible OCI. We named it same as SCR model with -sm suffuix\n",
    "SM_SCR_MODEL_NAME = SCR_MODEL_NAME + \"-sm\"\n",
    "\n",
    "# AWS \n",
    "AWS_REGION = \"us-east-1\"\n",
    "AWS_ECR = \"1234567890.dkr.ecr.us-east-1.amazonaws.com\"  \n",
    "\n",
    "import pprint\n",
    "pp = pprint.PrettyPrinter(indent=1)\n",
    "# pp.pprint(SCR_MODEL_NAME)\n"
   ]
  },
  {
   "cell_type": "code",
   "execution_count": 116,
   "metadata": {},
   "outputs": [],
   "source": [
    "# Replace modelname, modelpath variables in code segments. We need to update 2 files Dockerfile and sagemaker_server.py \n",
    "# We will get mentioned files as part of git download (same way as you got this notebook).\n",
    "\n",
    "# Dockerfile changes. Look for REPLACE_KEY_1 and change the immediate line  after that. This makes it idempotent. \n",
    "# use a different limiter to address / in filepaths. here we used # instead of / in second statement.\n",
    "!sed -i \"/REPLACE_KEY_1/{n;s/.*/FROM SCR_PATH_ON_AWS_ECR_LITERAL/}\" Dockerfile\n",
    "!sed -i \"s#SCR_PATH_ON_AWS_ECR_LITERAL#$SCR_PATH_ON_AWS_ECR#\" Dockerfile\n",
    "\n",
    "# sagemaker_server.py changes. Look for REPLACE_KEY_2 and change the immediate line  after that. This makes it idempotent.\n",
    "!sed -i \"/REPLACE_KEY_2/{n;s/.*/SCR_MODEL_NAME = \"SCR_MODEL_NAME_LITERAL\"/}\" sagemaker_server.py\n",
    "!sed -i \"s#SCR_MODEL_NAME_LITERAL#'$SCR_MODEL_NAME'#\" sagemaker_server.py\n",
    "\n"
   ]
  },
  {
   "cell_type": "code",
   "execution_count": 117,
   "metadata": {},
   "outputs": [
    {
     "name": "stdout",
     "output_type": "stream",
     "text": [
      "WARNING! Your password will be stored unencrypted in /xxxx/home/userid/.docker/config.json.\n",
      "Configure a credential helper to remove this warning. See\n",
      "https://docs.docker.com/engine/reference/commandline/login/#credentials-store\n",
      "\n",
      "Login Succeeded\n",
      "'sunallscrtree1'\n",
      "'sunallscrtree1-sm'\n",
      "{\n",
      "    \"repository\": {\n",
      "        \"repositoryArn\": \"arn:aws:ecr:us-east-1:1234567890:repository/sunallscrtree1-sm\",\n",
      "        \"registryId\": \"1234567890\",\n",
      "        \"repositoryName\": \"sunallscrtree1-sm\",\n",
      "        \"repositoryUri\": \"1234567890.dkr.ecr.us-east-1.amazonaws.com/sunallscrtree1-sm\",\n",
      "        \"createdAt\": \"2022-03-23T22:27:34-04:00\",\n",
      "        \"imageTagMutability\": \"MUTABLE\",\n",
      "        \"imageScanningConfiguration\": {\n",
      "            \"scanOnPush\": false\n",
      "        },\n",
      "        \"encryptionConfiguration\": {\n",
      "            \"encryptionType\": \"AES256\"\n",
      "        }\n",
      "    }\n",
      "}\n"
     ]
    }
   ],
   "source": [
    "# This cell takes care of login to AWS ECR and creating repo for the new SM compatible model.\n",
    "\n",
    "# 1. Do a docker login first to AWS ECR so we can pull and push images\n",
    "!/usr/local/bin/aws ecr get-login-password --region {AWS_REGION} | {DOCKER_CMD} login {AWS_ECR} --username AWS --password-stdin\n",
    "\n",
    "pp.pprint(SCR_MODEL_NAME)\n",
    "pp.pprint(SM_SCR_MODEL_NAME)\n",
    "\n",
    "# 2. Create a REPO. Ignore errors if they say it already exists. \n",
    "!/usr/local/bin/aws ecr create-repository --repository-name {SM_SCR_MODEL_NAME} --region {AWS_REGION}\n"
   ]
  },
  {
   "cell_type": "code",
   "execution_count": 118,
   "metadata": {},
   "outputs": [
    {
     "name": "stdout",
     "output_type": "stream",
     "text": [
      "Sending build context to Docker daemon  43.52kB\n",
      "Step 1/12 : FROM 1234567890.dkr.ecr.us-east-1.amazonaws.com/sunallscrtree1\n",
      " ---> cd005f3142d9\n",
      "Step 2/12 : USER root\n",
      " ---> Using cache\n",
      " ---> 4240bf17021e\n",
      "Step 3/12 : RUN /bin/bash -c 'mkdir sagemaker ; mkdir /opt/tmp; chmod -R 777 /opt/tmp'\n",
      " ---> Using cache\n",
      " ---> 74dec3d8e0d8\n",
      "Step 4/12 : WORKDIR /sagemaker\n",
      " ---> Using cache\n",
      " ---> de84b8060add\n",
      "Step 5/12 : RUN /bin/bash -c 'python -m ensurepip --upgrade; pip3 install flask gunicorn urllib3'\n",
      " ---> Using cache\n",
      " ---> 08f024f56716\n",
      "Step 6/12 : ADD sagemaker_server.py sagemaker_server.py\n",
      " ---> Using cache\n",
      " ---> 3ae655cf794a\n",
      "Step 7/12 : ADD launch_two_servers.sh launch_two_servers.sh\n",
      " ---> Using cache\n",
      " ---> 60ec45222d4d\n",
      "Step 8/12 : RUN chmod a+x launch_two_servers.sh\n",
      " ---> Using cache\n",
      " ---> 9a62d5da87c7\n",
      "Step 9/12 : USER 1001:0\n",
      " ---> Using cache\n",
      " ---> 0af16603b43e\n",
      "Step 10/12 : EXPOSE 8080\n",
      " ---> Using cache\n",
      " ---> 384077d2e7ff\n",
      "Step 11/12 : EXPOSE 9090\n",
      " ---> Using cache\n",
      " ---> b5b84cd74b8a\n",
      "Step 12/12 : ENTRYPOINT [\"/usr/bin/env\",\"/sagemaker/launch_two_servers.sh\"]\n",
      " ---> Using cache\n",
      " ---> dd3bd5435805\n",
      "Successfully built dd3bd5435805\n",
      "Successfully tagged sunallscrtree1-sm:latest\n",
      "Using default tag: latest\n",
      "The push refers to repository [1234567890.dkr.ecr.us-east-1.amazonaws.com/sunallscrtree1-sm]\n",
      "\n",
      "\u001b[1B7bff4543: Preparing \n",
      "\u001b[1Bd488114f: Preparing \n",
      "\u001b[1Bbcfb0697: Preparing \n",
      "\u001b[1B0e874f51: Preparing \n",
      "\u001b[1Be815fee5: Preparing \n",
      "\u001b[1B21e1f21f: Preparing \n",
      "\u001b[1B0920ada5: Preparing \n",
      "\u001b[1B35b54145: Preparing \n",
      "\u001b[1Bc56ff53a: Preparing \n",
      "\u001b[1B048cfb6a: Preparing \n",
      "\u001b[1Bfa9a48ba: Preparing \n",
      "\u001b[1B8b13c7d2: Preparing \n",
      "\u001b[1B69dac2f4: Preparing \n",
      "\u001b[1Ba3e63405: Preparing \n",
      "\u001b[1B8164ef39: Preparing \n",
      "\u001b[1B07446024: Preparing \n",
      "\u001b[1Bffbff4dd: Preparing \n",
      "\u001b[1B86b54390: Pushed   104.1MB/102.4MB\u001b[17A\u001b[2K\u001b[16A\u001b[2K\u001b[16A\u001b[2K\u001b[16A\u001b[2K\u001b[15A\u001b[2K\u001b[17A\u001b[2K\u001b[14A\u001b[2K\u001b[16A\u001b[2K\u001b[13A\u001b[2K\u001b[12A\u001b[2K\u001b[11A\u001b[2K\u001b[13A\u001b[2K\u001b[12A\u001b[2K\u001b[16A\u001b[2K\u001b[11A\u001b[2K\u001b[9A\u001b[2K\u001b[9A\u001b[2K\u001b[8A\u001b[2K\u001b[8A\u001b[2K\u001b[5A\u001b[2K\u001b[5A\u001b[2K\u001b[6A\u001b[2K\u001b[5A\u001b[2K\u001b[6A\u001b[2K\u001b[5A\u001b[2K\u001b[6A\u001b[2K\u001b[7A\u001b[2K\u001b[6A\u001b[2K\u001b[7A\u001b[2K\u001b[6A\u001b[2K\u001b[7A\u001b[2K\u001b[6A\u001b[2K\u001b[4A\u001b[2K\u001b[6A\u001b[2K\u001b[4A\u001b[2K\u001b[5A\u001b[2K\u001b[4A\u001b[2K\u001b[4A\u001b[2K\u001b[7A\u001b[2K\u001b[6A\u001b[2K\u001b[7A\u001b[2K\u001b[6A\u001b[2K\u001b[3A\u001b[2K\u001b[6A\u001b[2K\u001b[3A\u001b[2K\u001b[6A\u001b[2K\u001b[2A\u001b[2K\u001b[6A\u001b[2K\u001b[3A\u001b[2K\u001b[7A\u001b[2K\u001b[3A\u001b[2K\u001b[4A\u001b[2K\u001b[7A\u001b[2K\u001b[4A\u001b[2K\u001b[7A\u001b[2K\u001b[3A\u001b[2K\u001b[4A\u001b[2K\u001b[7A\u001b[2K\u001b[4A\u001b[2K\u001b[1A\u001b[2K\u001b[3A\u001b[2K\u001b[4A\u001b[2K\u001b[7A\u001b[2K\u001b[4A\u001b[2K\u001b[7A\u001b[2K\u001b[3A\u001b[2K\u001b[1A\u001b[2K\u001b[3A\u001b[2K\u001b[4A\u001b[2K\u001b[7A\u001b[2K\u001b[3A\u001b[2K\u001b[7A\u001b[2K\u001b[1A\u001b[2K\u001b[7A\u001b[2K\u001b[1A\u001b[2K\u001b[7A\u001b[2K\u001b[3A\u001b[2K\u001b[1A\u001b[2K\u001b[4A\u001b[2K\u001b[7A\u001b[2K\u001b[4A\u001b[2K\u001b[3A\u001b[2K\u001b[1A\u001b[2K\u001b[3A\u001b[2K\u001b[7A\u001b[2K\u001b[4A\u001b[2K\u001b[7A\u001b[2K\u001b[1A\u001b[2K\u001b[7A\u001b[2K\u001b[1A\u001b[2K\u001b[4A\u001b[2K\u001b[1A\u001b[2K\u001b[4A\u001b[2K\u001b[7A\u001b[2K\u001b[4A\u001b[2K\u001b[7A\u001b[2K\u001b[4A\u001b[2K\u001b[7A\u001b[2K\u001b[1A\u001b[2K\u001b[7A\u001b[2K\u001b[3A\u001b[2K\u001b[4A\u001b[2K\u001b[3A\u001b[2K\u001b[1A\u001b[2K\u001b[3A\u001b[2K\u001b[4A\u001b[2K\u001b[1A\u001b[2K\u001b[3A\u001b[2K\u001b[7A\u001b[2K\u001b[4A\u001b[2K\u001b[7A\u001b[2K\u001b[3A\u001b[2K\u001b[1A\u001b[2K\u001b[4A\u001b[2K\u001b[7A\u001b[2K\u001b[4A\u001b[2K\u001b[3A\u001b[2K\u001b[4A\u001b[2K\u001b[1A\u001b[2K\u001b[4A\u001b[2K\u001b[7A\u001b[2K\u001b[4A\u001b[2K\u001b[3A\u001b[2K\u001b[4A\u001b[2K\u001b[3A\u001b[2K\u001b[1A\u001b[2K\u001b[7A\u001b[2K\u001b[4A\u001b[2K\u001b[7A\u001b[2K\u001b[1A\u001b[2K\u001b[7A\u001b[2K\u001b[4A\u001b[2K\u001b[7A\u001b[2K\u001b[4A\u001b[2K\u001b[7A\u001b[2K\u001b[4A\u001b[2K\u001b[7A\u001b[2K\u001b[4A\u001b[2K\u001b[3A\u001b[2K\u001b[4A\u001b[2K\u001b[1A\u001b[2K\u001b[4A\u001b[2K\u001b[7A\u001b[2K\u001b[4A\u001b[2K\u001b[1A\u001b[2K\u001b[4A\u001b[2K\u001b[1A\u001b[2K\u001b[4A\u001b[2K\u001b[1A\u001b[2K\u001b[4A\u001b[2K\u001b[1A\u001b[2K\u001b[4A\u001b[2K\u001b[1A\u001b[2K\u001b[1A\u001b[2K\u001b[7A\u001b[2K\u001b[1A\u001b[2K\u001b[1A\u001b[2K\u001b[7A\u001b[2K\u001b[1A\u001b[2K\u001b[7A\u001b[2K\u001b[1A\u001b[2K\u001b[7A\u001b[2K\u001b[1A\u001b[2K\u001b[4A\u001b[2K\u001b[1A\u001b[2K\u001b[1A\u001b[2K\u001b[7A\u001b[2K\u001b[1A\u001b[2K\u001b[7A\u001b[2K\u001b[7A\u001b[2K\u001b[1A\u001b[2K\u001b[1A\u001b[2K\u001b[1A\u001b[2K\u001b[1A\u001b[2K\u001b[1A\u001b[2K\u001b[1A\u001b[2K\u001b[1A\u001b[2K\u001b[7A\u001b[2K\u001b[1A\u001b[2K\u001b[1A\u001b[2K\u001b[1A\u001b[2K\u001b[1A\u001b[2Klatest: digest: sha256:6a7d9c37ae9223f8a66991f8d0813f2fc5fee0aa8f3051e2be36000dab317174 size: 4295\n"
     ]
    }
   ],
   "source": [
    "# This cell Build a new Docker image compatible with sagemaker\n",
    "# Dockerfile refers to all files required to create the new OCI. \n",
    "\n",
    "# 1. Build the image\n",
    "!{DOCKER_CMD} build -t {SM_SCR_MODEL_NAME} .\n",
    "\n",
    "# 2. Tag and push the new image back to AWS ECR REPO from step2\n",
    "!{DOCKER_CMD} tag {SM_SCR_MODEL_NAME} {AWS_ECR}/{SM_SCR_MODEL_NAME}\n",
    "!{DOCKER_CMD} push  {AWS_ECR}/{SM_SCR_MODEL_NAME}\n",
    "\n"
   ]
  },
  {
   "cell_type": "code",
   "execution_count": 119,
   "metadata": {},
   "outputs": [
    {
     "name": "stdout",
     "output_type": "stream",
     "text": [
      "{\n",
      "    \"imageIds\": [\n",
      "        {\n",
      "            \"imageDigest\": \"sha256:6a7d9c37ae9223f8a66991f8d0813f2fc5fee0aa8f3051e2be36000dab317174\",\n",
      "            \"imageTag\": \"latest\"\n",
      "        }\n",
      "    ]\n",
      "}\n"
     ]
    }
   ],
   "source": [
    "# View images we just pushed - You can do this from AWS console as well..\n",
    "!/usr/local/bin/aws ecr list-images --repository-name {SM_SCR_MODEL_NAME}"
   ]
  },
  {
   "cell_type": "markdown",
   "metadata": {},
   "source": [
    "# PART B - Deploy SAS model to SageMaker runtime "
   ]
  },
  {
   "cell_type": "code",
   "execution_count": 120,
   "metadata": {},
   "outputs": [],
   "source": [
    "# settings for PART-B\n",
    "\n",
    "# following role to be created on AWS IAM screen with sagemaker-full-access. \n",
    "sagemaker_iam_role = 'arn:aws:iam::1234567890:role/service-role/AmazonSageMaker-ExecutionRole-20220320T163511'\n",
    "sagemaker_inference_instance_type=\"ml.t2.medium\"\n",
    "sagemaker_inference_instance_count=1\n",
    "\n",
    "# endpoint names arrived based on model name to keep it simple. \n",
    "sagemaker_endpoint_config_name = SM_SCR_MODEL_NAME + \"-epconfig\"\n",
    "sagemaker_endpoint_name = SM_SCR_MODEL_NAME + \"-ep\"\n",
    "\n",
    "import json"
   ]
  },
  {
   "cell_type": "code",
   "execution_count": 121,
   "metadata": {},
   "outputs": [],
   "source": [
    "# create sagemaker session objects\n",
    "\n",
    "import boto3\n",
    "\n",
    "# If you want to use specific keys you can set them as well. I am just uing default $HOME/.aws/config,credentials file \n",
    "boto3_session = boto3.Session()\n",
    "sagemaker_client = boto3_session.client('sagemaker')"
   ]
  },
  {
   "cell_type": "code",
   "execution_count": 124,
   "metadata": {},
   "outputs": [
    {
     "name": "stdout",
     "output_type": "stream",
     "text": [
      "{'ModelArn': 'arn:aws:sagemaker:us-east-1:1234567890:model/sunallscrtree1-sm',\n",
      " 'ResponseMetadata': {'HTTPHeaders': {'content-length': '79',\n",
      "                                      'content-type': 'application/x-amz-json-1.1',\n",
      "                                      'date': 'Thu, 24 Mar 2022 02:29:11 GMT',\n",
      "                                      'x-amzn-requestid': 'b030b39f-446d-4ccd-b788-ca0ea482e44d'},\n",
      "                      'HTTPStatusCode': 200,\n",
      "                      'RequestId': 'b030b39f-446d-4ccd-b788-ca0ea482e44d',\n",
      "                      'RetryAttempts': 0}}\n",
      "('Created EndpointConfig: '\n",
      " 'arn:aws:sagemaker:us-east-1:1234567890:endpoint-config/sunallscrtree1-sm-epconfig')\n",
      "arn:aws:sagemaker:us-east-1:1234567890:endpoint/sunallscrtree1-sm-ep\n"
     ]
    }
   ],
   "source": [
    "# create all sagemaker assets required .\n",
    "\n",
    "#Create sagemaker model with reference to SCR container we created for sagemaker.\n",
    "create_model_response = sagemaker_client.create_model(\n",
    "    ModelName = SM_SCR_MODEL_NAME,\n",
    "    ExecutionRoleArn = sagemaker_iam_role,\n",
    "    PrimaryContainer = {\n",
    "        'Image': AWS_ECR + \"/\" + SM_SCR_MODEL_NAME\n",
    "        \n",
    "    })\n",
    "pp.pprint(create_model_response)\n",
    "\n",
    "# create end-point configuration\n",
    "endpoint_config_response = sagemaker_client.create_endpoint_config(\n",
    "    EndpointConfigName=sagemaker_endpoint_config_name, # You will specify this name in a CreateEndpoint request.\n",
    "    # List of ProductionVariant objects, one for each model that you want to host at this endpoint.\n",
    "    ProductionVariants=[\n",
    "        {\n",
    "            \"VariantName\": \"variant1\", # The name of the production variant.\n",
    "            \"ModelName\": SM_SCR_MODEL_NAME, \n",
    "            \"InstanceType\": sagemaker_inference_instance_type, # Specify the compute instance type.\n",
    "            \"InitialInstanceCount\": sagemaker_inference_instance_count # Number of instances to launch initially.\n",
    "        }\n",
    "    ]\n",
    ")\n",
    "pp.pprint(f\"Created EndpointConfig: {endpoint_config_response['EndpointConfigArn']}\")\n",
    "\n",
    "## create endpoint\n",
    "create_endpoint_response = sagemaker_client.create_endpoint(\n",
    "                                            EndpointName=sagemaker_endpoint_name, \n",
    "                                            EndpointConfigName=sagemaker_endpoint_config_name) \n",
    "print(create_endpoint_response[\"EndpointArn\"])"
   ]
  },
  {
   "cell_type": "code",
   "execution_count": 125,
   "metadata": {},
   "outputs": [
    {
     "name": "stdout",
     "output_type": "stream",
     "text": [
      "'Status: Creating'\n"
     ]
    }
   ],
   "source": [
    "# Wait till the end point is active. We need this inservice before we can make predictions. \n",
    "resp = sagemaker_client.describe_endpoint(EndpointName=sagemaker_endpoint_name)\n",
    "status = resp[\"EndpointStatus\"]\n",
    "pp.pprint(\"Status: \" + status)\n",
    "\n",
    "sagemaker_client.get_waiter(\"endpoint_in_service\").wait(EndpointName=sagemaker_endpoint_name)"
   ]
  },
  {
   "cell_type": "markdown",
   "metadata": {},
   "source": [
    "# PART C - Invoke prediction on SCR model with sagemaker endpoint."
   ]
  },
  {
   "cell_type": "code",
   "execution_count": 106,
   "metadata": {},
   "outputs": [],
   "source": [
    "# define payload for prediction\n",
    "payload = json.dumps({\n",
    "    \"inputs\": [ \n",
    "{\"name\": \"CLAGE\", \"value\": 101.4660019},\n",
    "{\"name\": \"CLNO\", \"value\": 8 },\n",
    "{\"name\": \"DEBTINC\",\"value\": 37.11361356},\n",
    "{\"name\": \"DELINQ\",\"value\": 0},\n",
    "{\"name\": \"DEROG\",\"value\": 0},\n",
    "{\"name\": \"JOB\",\"value\": \"Other\"},\n",
    "{\"name\": \"LOAN\",\"value\": 1700},\n",
    "{\"name\": \"MORTDUE\",\"value\": 30548},\n",
    "{\"name\": \"NINQ\",\"value\": 1},\n",
    "{\"name\": \"REASON\",\"value\": \"HomeImp\"},\n",
    "{\"name\": \"VALUE\",\"value\": 40320},\n",
    "{\"name\": \"YOJ\",\"value\": 9}\n",
    "]})"
   ]
  },
  {
   "cell_type": "code",
   "execution_count": 107,
   "metadata": {},
   "outputs": [
    {
     "name": "stdout",
     "output_type": "stream",
     "text": [
      "('{\"version\":1,\"metadata\":{\"module_id\":\"sunallscrtree1\",\"step_id\":\"score\",\"timestamp\":\"2022-03-24T01:25:03.729Z\",\"elapsed_nanos\":\"1551121\"},\"outputs\":[{\"name\":\"EM_CLASSIFICATION\",\"value\":\"           '\n",
      " '0\"},{\"name\":\"EM_EVENTPROBABILITY\",\"value\":0.05627306273062},{\"name\":\"EM_PROBABILITY\",\"value\":0.94372693726937},{\"name\":\"I_BAD\",\"value\":\"           '\n",
      " '0\"},{\"name\":\"P_BAD0\",\"value\":0.94372693726937},{\"name\":\"P_BAD1\",\"value\":0.05627306273062},{\"name\":\"_leaf_id_\",\"value\":8.0}]}')\n"
     ]
    }
   ],
   "source": [
    "# create runtime client and invoke prediction. In real life you would probably read an input file and convert them into json objects to invoke prediction services\n",
    "# \n",
    "runtime_client = boto3_session.client(\"runtime.sagemaker\")\n",
    "\n",
    "response = runtime_client.invoke_endpoint(\n",
    "    EndpointName=sagemaker_endpoint_name, ContentType=\"application/json\", Body=payload\n",
    ")\n",
    "result = response[\"Body\"].read().decode(\"ascii\")\n",
    "\n",
    "pp.pprint(result)"
   ]
  },
  {
   "cell_type": "markdown",
   "metadata": {},
   "source": [
    "# PART D - Delete resoruces (leave ECR OCI images for now.  You can delete them on AWS console ECR window). "
   ]
  },
  {
   "cell_type": "code",
   "execution_count": 126,
   "metadata": {},
   "outputs": [
    {
     "data": {
      "text/plain": [
       "{'ResponseMetadata': {'RequestId': '59415937-239f-4221-880b-1698d35d20e7',\n",
       "  'HTTPStatusCode': 200,\n",
       "  'HTTPHeaders': {'x-amzn-requestid': '59415937-239f-4221-880b-1698d35d20e7',\n",
       "   'content-type': 'application/x-amz-json-1.1',\n",
       "   'content-length': '0',\n",
       "   'date': 'Thu, 24 Mar 2022 03:10:52 GMT'},\n",
       "  'RetryAttempts': 0}}"
      ]
     },
     "execution_count": 126,
     "metadata": {},
     "output_type": "execute_result"
    }
   ],
   "source": [
    "# delete resources in reverse order.\n",
    "\n",
    "# Delete endpoint\n",
    "sagemaker_client.delete_endpoint(EndpointName=sagemaker_endpoint_name) \n",
    "# Delete endpoint configuration\n",
    "sagemaker_client.delete_endpoint_config(EndpointConfigName=sagemaker_endpoint_config_name)\n",
    "# Delete endpoint configuration\n",
    "sagemaker_client.delete_model(ModelName=SM_SCR_MODEL_NAME)\n",
    "\n"
   ]
  },
  {
   "cell_type": "code",
   "execution_count": null,
   "metadata": {},
   "outputs": [],
   "source": []
  }
 ],
 "metadata": {
  "kernelspec": {
   "display_name": "py36_swatsasctl",
   "language": "python",
   "name": "py36_swatsasctl"
  },
  "language_info": {
   "codemirror_mode": {
    "name": "ipython",
    "version": 3
   },
   "file_extension": ".py",
   "mimetype": "text/x-python",
   "name": "python",
   "nbconvert_exporter": "python",
   "pygments_lexer": "ipython3",
   "version": "3.6.12"
  }
 },
 "nbformat": 4,
 "nbformat_minor": 4
}
